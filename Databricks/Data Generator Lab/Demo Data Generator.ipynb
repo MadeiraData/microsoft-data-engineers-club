{
 "cells": [
  {
   "cell_type": "code",
   "execution_count": 0,
   "metadata": {
    "application/vnd.databricks.v1+cell": {
     "cellMetadata": {
      "byteLimit": 2048000,
      "rowLimit": 10000
     },
     "inputWidgets": {},
     "nuid": "01d97eba-58af-4d9e-b501-736e069d3f38",
     "showTitle": false,
     "title": ""
    }
   },
   "outputs": [
    {
     "output_type": "stream",
     "name": "stdout",
     "output_type": "stream",
     "text": [
      "Python interpreter will be restarted.\nCollecting dbldatagen\n  Downloading dbldatagen-0.3.3.post2-py3-none-any.whl (77 kB)\nInstalling collected packages: dbldatagen\nSuccessfully installed dbldatagen-0.3.3.post2\nPython interpreter will be restarted.\n"
     ]
    }
   ],
   "source": [
    "%pip install dbldatagen"
   ]
  },
  {
   "cell_type": "code",
   "execution_count": 0,
   "metadata": {
    "application/vnd.databricks.v1+cell": {
     "cellMetadata": {
      "byteLimit": 2048000,
      "rowLimit": 10000
     },
     "inputWidgets": {},
     "nuid": "c091a6c1-84f4-4f3e-8702-7ba8656d094f",
     "showTitle": false,
     "title": ""
    }
   },
   "outputs": [
    {
     "output_type": "stream",
     "name": "stdout",
     "output_type": "stream",
     "text": [
      "Python interpreter will be restarted.\nCollecting Faker\n  Downloading Faker-18.3.1-py3-none-any.whl (1.7 MB)\nRequirement already satisfied: python-dateutil>=2.4 in /databricks/python3/lib/python3.9/site-packages (from Faker) (2.8.2)\nRequirement already satisfied: six>=1.5 in /databricks/python3/lib/python3.9/site-packages (from python-dateutil>=2.4->Faker) (1.16.0)\nInstalling collected packages: Faker\nSuccessfully installed Faker-18.3.1\nPython interpreter will be restarted.\n"
     ]
    }
   ],
   "source": [
    "%pip install Faker"
   ]
  },
  {
   "cell_type": "code",
   "execution_count": 0,
   "metadata": {
    "application/vnd.databricks.v1+cell": {
     "cellMetadata": {
      "byteLimit": 2048000,
      "rowLimit": 10000
     },
     "inputWidgets": {},
     "nuid": "5b146c0b-84c4-4899-96bf-e6911e3322b5",
     "showTitle": false,
     "title": ""
    }
   },
   "outputs": [
    {
     "output_type": "stream",
     "name": "stdout",
     "output_type": "stream",
     "text": [
      "INFO: Version : VersionInfo(major='0', minor='3', patch='3', release='post', build='2')\n"
     ]
    }
   ],
   "source": [
    "from dbldatagen import DataGenerator , PyfuncText\n",
    "from faker import Faker\n",
    "from datetime import timedelta, datetime\n",
    "from pyspark.sql import SparkSession\n",
    "from pyspark.sql.functions import count, when, isnan, col, lit, countDistinct\n",
    "from pyspark.sql.types import StructType, StructField, IntegerType, StringType, TimestampType\n",
    "\n",
    "\n",
    "interval = timedelta(days=1, hours=1)\n",
    "start = datetime(2020, 10, 1, 0, 0, 0)\n",
    "end = datetime(2023, 10, 1, 6, 0, 0)\n",
    "\n",
    "partitions_requested = 20\n",
    "data_rows = 100\n",
    "\n",
    "schema = StructType([\n",
    "    StructField(\"name\", StringType(), False),\n",
    "    StructField(\"address\", StringType(), True),\n",
    "    StructField(\"email\", StringType(), True),\n",
    "    StructField(\"ip_address\", StringType(), True),\n",
    "    StructField(\"card_type\", StringType(), True),\n",
    "    StructField(\"card_num\", StringType(), True),\n",
    "    StructField(\"Last_Login\", TimestampType(), False),\n",
    "\n",
    "])\n",
    "\n",
    "ip_address_generator = (lambda context, v : Faker(locale=\"en_US\").ipv4_private())\n",
    "name_generator = (lambda context, v : Faker(locale=\"en_US\").name())\n",
    "address_generator = (lambda context, v : Faker(locale=\"en_US\").address())\n",
    "email_generator = (lambda context, v : Faker(locale=\"en_US\").ascii_company_email())\n"
   ]
  },
  {
   "cell_type": "code",
   "execution_count": 0,
   "metadata": {
    "application/vnd.databricks.v1+cell": {
     "cellMetadata": {
      "byteLimit": 2048000,
      "rowLimit": 10000
     },
     "inputWidgets": {},
     "nuid": "9cd10b2c-db3e-4b3e-9ea7-8ac06e3900cc",
     "showTitle": false,
     "title": ""
    }
   },
   "outputs": [],
   "source": [
    "\n",
    "fake_data = (DataGenerator(spark,rows=data_rows, partitions=partitions_requested)\n",
    "            .withSchema(schema)\n",
    "            .withColumnSpec(\"name\",\n",
    "                        percentNulls=0.1,\n",
    "                        text=PyfuncText(name_generator ))\n",
    "            .withColumnSpec(\"address\",\n",
    "                        text=PyfuncText(address_generator))\n",
    "            .withColumnSpec(\"email\",\n",
    "                        text=PyfuncText(email_generator))\n",
    "            .withColumnSpec(\"ip_address\",\n",
    "                        text=PyfuncText(ip_address_generator ))\n",
    "             .withColumn(\"int_payment_instrument\", \"int\",  minValue=0, maxValue=9999,  \n",
    "                baseColumn=\"name\",\n",
    "                baseColumnType=\"hash\", omit=True)\n",
    "            .withColumnSpec(\"card_type\", values=['paypal', 'visa', 'mastercard', 'amex'],\n",
    "                random=True)\n",
    "            .withColumnSpec(\"card_num\", \n",
    "                expr=\"format_number(int_payment_instrument, '**** ****** *####')\",\n",
    "                baseColumn=\"int_payment_instrument\")\n",
    "            .withColumnSpec(\"Last_Login\",  percentNulls=0.3, begin=start, end=end, interval=interval, random=True)\n",
    "            )"
   ]
  },
  {
   "cell_type": "code",
   "execution_count": 0,
   "metadata": {
    "application/vnd.databricks.v1+cell": {
     "cellMetadata": {
      "byteLimit": 2048000,
      "rowLimit": 10000
     },
     "inputWidgets": {},
     "nuid": "5a672ec4-8039-4c46-88da-3aa7db92fb36",
     "showTitle": false,
     "title": ""
    }
   },
   "outputs": [
    {
     "output_type": "display_data",
     "data": {
      "text/html": [
       "<style scoped>\n  .table-result-container {\n    max-height: 300px;\n    overflow: auto;\n  }\n  table, th, td {\n    border: 1px solid black;\n    border-collapse: collapse;\n  }\n  th, td {\n    padding: 5px;\n  }\n  th {\n    text-align: left;\n  }\n</style><div class='table-result-container'><table class='table-result'><thead style='background-color: white'><tr><th>name</th><th>address</th><th>email</th><th>ip_address</th><th>card_type</th><th>card_num</th><th>Last_Login</th></tr></thead><tbody><tr><td>Elizabeth Martin</td><td>25543 Lisa Mall\nNorth Mary, MO 76784</td><td>mleon@austin.net</td><td>172.24.169.177</td><td>amex</td><td>**** ****** *6214</td><td>null</td></tr><tr><td>Vanessa Oneill</td><td>59646 Martinez Burgs\nSouth Jessica, VT 08697</td><td>james58@ritter-harrington.biz</td><td>10.219.119.183</td><td>visa</td><td>**** ****** *9648</td><td>2021-04-11T17:00:00.000+0000</td></tr><tr><td>John Smith</td><td>3336 James Walk Apt. 354\nSchneiderstad, MA 81269</td><td>ftorres@newman.com</td><td>10.208.195.206</td><td>visa</td><td>**** ****** *1135</td><td>2022-11-29T14:00:00.000+0000</td></tr><tr><td>Timothy Castillo</td><td>92719 Garcia Freeway\nSouth David, MA 85641</td><td>james95@hicks-cunningham.com</td><td>172.29.38.177</td><td>mastercard</td><td>**** ****** *95</td><td>null</td></tr><tr><td>Vanessa Gonzalez</td><td>88936 Cuevas Knoll\nSouth Angela, LA 06566</td><td>jeffreycollins@kent.info</td><td>192.168.163.59</td><td>visa</td><td>**** ****** *3079</td><td>2023-05-02T18:00:00.000+0000</td></tr><tr><td>Maria Morris</td><td>45604 Kayla Divide Apt. 718\nPort Erichaven, MO 19240</td><td>edward60@tucker.com</td><td>192.168.206.192</td><td>mastercard</td><td>**** ****** *5619</td><td>null</td></tr><tr><td>Mark Hickman</td><td>66827 Watts Mills Suite 517\nNew Samantha, OK 72247</td><td>xjones@mason.info</td><td>10.152.22.142</td><td>amex</td><td>**** ****** *1056</td><td>2020-12-29T14:00:00.000+0000</td></tr><tr><td>Elizabeth Rodriguez</td><td>577 Ramirez Corner Apt. 950\nHarperport, FL 95069</td><td>stephenolsen@vasquez.com</td><td>172.25.253.241</td><td>amex</td><td>**** ****** *3574</td><td>2022-08-27T20:00:00.000+0000</td></tr><tr><td>Caroline Anderson</td><td>5720 Steven Burgs\nNorth Jennifer, ID 22515</td><td>cynthiamiller@davis.info</td><td>10.233.40.18</td><td>paypal</td><td>**** ****** *2949</td><td>2022-08-21T14:00:00.000+0000</td></tr><tr><td>Joshua Thompson</td><td>36132 Shane Valleys\nNew Kendraport, NV 47886</td><td>charleskim@klein.info</td><td>10.122.60.2</td><td>mastercard</td><td>**** ****** *8511</td><td>2023-03-15T20:00:00.000+0000</td></tr></tbody></table></div>"
      ]
     },
     "metadata": {
      "application/vnd.databricks.v1+output": {
       "addedWidgets": {},
       "aggData": [],
       "aggError": "",
       "aggOverflow": false,
       "aggSchema": [],
       "aggSeriesLimitReached": false,
       "aggType": "",
       "arguments": {},
       "columnCustomDisplayInfos": {},
       "data": [
        [
         "Elizabeth Martin",
         "25543 Lisa Mall\nNorth Mary, MO 76784",
         "mleon@austin.net",
         "172.24.169.177",
         "amex",
         "**** ****** *6214",
         null
        ],
        [
         "Vanessa Oneill",
         "59646 Martinez Burgs\nSouth Jessica, VT 08697",
         "james58@ritter-harrington.biz",
         "10.219.119.183",
         "visa",
         "**** ****** *9648",
         "2021-04-11T17:00:00.000+0000"
        ],
        [
         "John Smith",
         "3336 James Walk Apt. 354\nSchneiderstad, MA 81269",
         "ftorres@newman.com",
         "10.208.195.206",
         "visa",
         "**** ****** *1135",
         "2022-11-29T14:00:00.000+0000"
        ],
        [
         "Timothy Castillo",
         "92719 Garcia Freeway\nSouth David, MA 85641",
         "james95@hicks-cunningham.com",
         "172.29.38.177",
         "mastercard",
         "**** ****** *95",
         null
        ],
        [
         "Vanessa Gonzalez",
         "88936 Cuevas Knoll\nSouth Angela, LA 06566",
         "jeffreycollins@kent.info",
         "192.168.163.59",
         "visa",
         "**** ****** *3079",
         "2023-05-02T18:00:00.000+0000"
        ],
        [
         "Maria Morris",
         "45604 Kayla Divide Apt. 718\nPort Erichaven, MO 19240",
         "edward60@tucker.com",
         "192.168.206.192",
         "mastercard",
         "**** ****** *5619",
         null
        ],
        [
         "Mark Hickman",
         "66827 Watts Mills Suite 517\nNew Samantha, OK 72247",
         "xjones@mason.info",
         "10.152.22.142",
         "amex",
         "**** ****** *1056",
         "2020-12-29T14:00:00.000+0000"
        ],
        [
         "Elizabeth Rodriguez",
         "577 Ramirez Corner Apt. 950\nHarperport, FL 95069",
         "stephenolsen@vasquez.com",
         "172.25.253.241",
         "amex",
         "**** ****** *3574",
         "2022-08-27T20:00:00.000+0000"
        ],
        [
         "Caroline Anderson",
         "5720 Steven Burgs\nNorth Jennifer, ID 22515",
         "cynthiamiller@davis.info",
         "10.233.40.18",
         "paypal",
         "**** ****** *2949",
         "2022-08-21T14:00:00.000+0000"
        ],
        [
         "Joshua Thompson",
         "36132 Shane Valleys\nNew Kendraport, NV 47886",
         "charleskim@klein.info",
         "10.122.60.2",
         "mastercard",
         "**** ****** *8511",
         "2023-03-15T20:00:00.000+0000"
        ]
       ],
       "datasetInfos": [],
       "dbfsResultPath": null,
       "isJsonSchema": true,
       "metadata": {},
       "overflow": false,
       "plotOptions": {
        "customPlotOptions": {},
        "displayType": "table",
        "pivotAggregation": null,
        "pivotColumns": null,
        "xColumns": null,
        "yColumns": null
       },
       "removedWidgets": [],
       "schema": [
        {
         "metadata": "{}",
         "name": "name",
         "type": "\"string\""
        },
        {
         "metadata": "{}",
         "name": "address",
         "type": "\"string\""
        },
        {
         "metadata": "{}",
         "name": "email",
         "type": "\"string\""
        },
        {
         "metadata": "{}",
         "name": "ip_address",
         "type": "\"string\""
        },
        {
         "metadata": "{}",
         "name": "card_type",
         "type": "\"string\""
        },
        {
         "metadata": "{}",
         "name": "card_num",
         "type": "\"string\""
        },
        {
         "metadata": "{}",
         "name": "Last_Login",
         "type": "\"timestamp\""
        }
       ],
       "type": "table"
      }
     },
     "output_type": "display_data"
    }
   ],
   "source": [
    "fake_data_build = fake_data.build()\n",
    "display(fake_data_build.limit(10))\n",
    "            "
   ]
  }
 ],
 "metadata": {
  "application/vnd.databricks.v1+notebook": {
   "dashboards": [],
   "language": "python",
   "notebookMetadata": {
    "pythonIndentUnit": 4
   },
   "notebookName": "Demo Data Generator",
   "notebookOrigID": 1882078687005381,
   "widgets": {}
  }
 },
 "nbformat": 4,
 "nbformat_minor": 0
}
